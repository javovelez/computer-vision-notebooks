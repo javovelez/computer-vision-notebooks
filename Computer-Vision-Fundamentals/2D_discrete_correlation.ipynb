{
 "cells": [
  {
   "cell_type": "markdown",
   "metadata": {},
   "source": [
    "# Bi-dimensional Discrete Correlation\n",
    "---\n",
    "- Author: Diego Inácio\n",
    "- GitHub: [github.com/diegoinacio](https://github.com/diegoinacio)\n",
    "- Notebook: [2D_discrete_correlation.ipynb](https://github.com/diegoinacio/computer-vision-notebooks/blob/master/Computer-Vision-Fundamentals/2D_discrete_correlation.ipynb)\n",
    "---\n",
    "Naive implementation of bi-dimensional discrete correlation."
   ]
  },
  {
   "cell_type": "code",
   "execution_count": 1,
   "metadata": {},
   "outputs": [],
   "source": [
    "%matplotlib inline\n",
    "# Visualization\n",
    "import matplotlib as mpl\n",
    "import matplotlib.pyplot as plt\n",
    "import matplotlib.patches as patches\n",
    "\n",
    "# Math and matrix operations\n",
    "import numpy as np\n",
    "\n",
    "# Image IO\n",
    "import imageio\n",
    "\n",
    "# Performance\n",
    "from numba import jit, prange\n",
    "\n",
    "# Utils\n",
    "from _utils import *"
   ]
  },
  {
   "cell_type": "code",
   "execution_count": 2,
   "metadata": {},
   "outputs": [],
   "source": [
    "import warnings\n",
    "warnings.filterwarnings('ignore')"
   ]
  },
  {
   "cell_type": "markdown",
   "metadata": {},
   "source": [
    "## Cross-correlation\n",
    "---\n",
    "$$ \\large \\displaystyle\n",
    "(h \\star x)[n_1, n_2]=\\sum_{k_1=-\\infty}^{\\infty}\\sum_{k_2=-\\infty}^{\\infty}h(k_1, k_2)x(n_1+k_1,n_2+k_2)\n",
    "$$"
   ]
  },
  {
   "cell_type": "code",
   "execution_count": 3,
   "metadata": {},
   "outputs": [],
   "source": [
    "M, N = 7, 7\n",
    "x = np.zeros((M, N))\n",
    "x[M//2, N//2] = 1\n",
    "h = np.arange(9).reshape(3, 3) + 1"
   ]
  },
  {
   "cell_type": "code",
   "execution_count": 4,
   "metadata": {},
   "outputs": [
    {
     "name": "stdout",
     "output_type": "stream",
     "text": [
      "[[0. 0. 0. 0. 0. 0. 0.]\n",
      " [0. 0. 0. 0. 0. 0. 0.]\n",
      " [0. 0. 0. 0. 0. 0. 0.]\n",
      " [0. 0. 0. 1. 0. 0. 0.]\n",
      " [0. 0. 0. 0. 0. 0. 0.]\n",
      " [0. 0. 0. 0. 0. 0. 0.]\n",
      " [0. 0. 0. 0. 0. 0. 0.]] input\n",
      "\n",
      "[[1 2 3]\n",
      " [4 5 6]\n",
      " [7 8 9]] kernel\n",
      "\n",
      "[[0. 0. 0. 0. 0. 0. 0.]\n",
      " [0. 0. 0. 0. 0. 0. 0.]\n",
      " [0. 0. 1. 2. 3. 0. 0.]\n",
      " [0. 0. 4. 5. 6. 0. 0.]\n",
      " [0. 0. 7. 8. 9. 0. 0.]\n",
      " [0. 0. 0. 0. 0. 0. 0.]\n",
      " [0. 0. 0. 0. 0. 0. 0.]] cross correlation\n",
      "\n"
     ]
    }
   ],
   "source": [
    "@jit(nopython=True, parallel=True)\n",
    "def xcorrelate(x, h):\n",
    "    xh, xw = x.shape\n",
    "    hh, hw = h.shape\n",
    "    # Kernel radius\n",
    "    rh, rw = np.array(h.shape)//2\n",
    "    # Init output\n",
    "    output = np.zeros(x.shape)\n",
    "    for n1 in prange(rh, xh-rh):\n",
    "        for n2 in prange(rw, xw-rw):\n",
    "            value = 0\n",
    "            for k1_ in prange(hh):\n",
    "                for k2_ in prange(hw):\n",
    "                    k1 = rh - k1_\n",
    "                    k2 = rw - k2_\n",
    "                    value += h[k1_, k2_]*x[n1 + k1, n2 + k2]\n",
    "            output[n1, n2] = value\n",
    "    return output\n",
    "\n",
    "print(x, end=' input\\n\\n')\n",
    "print(h, end=' kernel\\n\\n')\n",
    "print(xcorrelate(x, h), end=' cross correlation\\n\\n')"
   ]
  }
 ],
 "metadata": {
  "kernelspec": {
   "display_name": "Python [conda env:imaging]",
   "language": "python",
   "name": "conda-env-imaging-py"
  },
  "language_info": {
   "codemirror_mode": {
    "name": "ipython",
    "version": 3
   },
   "file_extension": ".py",
   "mimetype": "text/x-python",
   "name": "python",
   "nbconvert_exporter": "python",
   "pygments_lexer": "ipython3",
   "version": "3.7.4"
  }
 },
 "nbformat": 4,
 "nbformat_minor": 2
}
